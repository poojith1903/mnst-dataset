{
  "nbformat": 4,
  "nbformat_minor": 0,
  "metadata": {
    "colab": {
      "provenance": []
    },
    "kernelspec": {
      "name": "python3",
      "display_name": "Python 3"
    },
    "language_info": {
      "name": "python"
    }
  },
  "cells": [
    {
      "cell_type": "code",
      "execution_count": null,
      "metadata": {
        "id": "hjDA7c611Uu5"
      },
      "outputs": [],
      "source": [
        "import tensorflow as tf\n",
        "import cv2\n",
        "import numpy as np\n",
        "import matplotlib.pyplot as plt\n",
        "import os\n",
        "import sklearn\n",
        "from sklearn.datasets import load_digits"
      ]
    },
    {
      "cell_type": "code",
      "source": [
        "mnist=tf.keras.datasets.mnist\n",
        "(x_train,y_train),(x_test,y_test)=mnist.load_data()"
      ],
      "metadata": {
        "id": "CM_owtK92W3K"
      },
      "execution_count": null,
      "outputs": []
    },
    {
      "cell_type": "code",
      "source": [
        "x_train.shape"
      ],
      "metadata": {
        "colab": {
          "base_uri": "https://localhost:8080/"
        },
        "id": "zFY8I_ju24v3",
        "outputId": "ce327b16-f14a-4638-bcaa-ac52c25c058c"
      },
      "execution_count": null,
      "outputs": [
        {
          "output_type": "execute_result",
          "data": {
            "text/plain": [
              "(60000, 28, 28)"
            ]
          },
          "metadata": {},
          "execution_count": 8
        }
      ]
    },
    {
      "cell_type": "code",
      "source": [
        "plt.imshow(x_train[5],cmap=plt.cm.binary)"
      ],
      "metadata": {
        "colab": {
          "base_uri": "https://localhost:8080/",
          "height": 447
        },
        "id": "yHVE71lz2-af",
        "outputId": "135ad226-ee24-4208-d111-f1461af82159"
      },
      "execution_count": null,
      "outputs": [
        {
          "output_type": "execute_result",
          "data": {
            "text/plain": [
              "<matplotlib.image.AxesImage at 0x781625330a30>"
            ]
          },
          "metadata": {},
          "execution_count": 9
        },
        {
          "output_type": "display_data",
          "data": {
            "text/plain": [
              "<Figure size 640x480 with 1 Axes>"
            ],
            "image/png": "[encoded data removed]"
          },
          "metadata": {}
        }
      ]
    },
    {
      "cell_type": "markdown",
      "source": [
        "Checking the values of each pixel before normalising\n"
      ],
      "metadata": {
        "id": "14FiTohj3cs0"
      }
    },
    {
      "cell_type": "code",
      "source": [
        "print(x_train[5])"
      ],
      "metadata": {
        "colab": {
          "base_uri": "https://localhost:8080/"
        },
        "id": "rpGVU2uD3Nrk",
        "outputId": "19c6b1e7-bd01-4141-8499-15eb57a1c93a"
      },
      "execution_count": null,
      "outputs": [
        {
          "output_type": "stream",
          "name": "stdout",
          "text": [
            "[[  0   0   0   0   0   0   0   0   0   0   0   0   0   0   0   0   0   0\n",
            "    0   0   0   0   0   0   0   0   0   0]\n",
            " [  0   0   0   0   0   0   0   0   0   0   0   0   0   0   0   0   0   0\n",
            "    0   0   0   0   0   0   0   0   0   0]\n",
            " [  0   0   0   0   0   0   0   0   0   0   0   0   0   0   0   0   0   0\n",
            "    0   0   0   0   0   0   0   0   0   0]\n",
            " [  0   0   0   0   0   0   0   0   0   0   0   0   0   0   0   0   0   0\n",
            "    0   0   0   0   0   0   0   0   0   0]\n",
            " [  0   0   0   0   0   0   0   0   0   0   0   0   0   0   0   0   0   0\n",
            "    0   0   0   0   0   0   0   0   0   0]\n",
            " [  0   0   0   0   0   0   0   0   0   0   0   0   0   0   0  13  25 100\n",
            "  122   7   0   0   0   0   0   0   0   0]\n",
            " [  0   0   0   0   0   0   0   0   0   0   0   0   0  33 151 208 252 252\n",
            "  252 146   0   0   0   0   0   0   0   0]\n",
            " [  0   0   0   0   0   0   0   0   0   0   0  40 152 244 252 253 224 211\n",
            "  252 232  40   0   0   0   0   0   0   0]\n",
            " [  0   0   0   0   0   0   0   0   0  15 152 239 252 252 252 216  31  37\n",
            "  252 252  60   0   0   0   0   0   0   0]\n",
            " [  0   0   0   0   0   0   0   0   0  96 252 252 252 252 217  29   0  37\n",
            "  252 252  60   0   0   0   0   0   0   0]\n",
            " [  0   0   0   0   0   0   0   0   0 181 252 252 220 167  30   0   0  77\n",
            "  252 252  60   0   0   0   0   0   0   0]\n",
            " [  0   0   0   0   0   0   0   0   0  26 128  58  22   0   0   0   0 100\n",
            "  252 252  60   0   0   0   0   0   0   0]\n",
            " [  0   0   0   0   0   0   0   0   0   0   0   0   0   0   0   0   0 157\n",
            "  252 252  60   0   0   0   0   0   0   0]\n",
            " [  0   0   0   0   0   0   0   0   0   0   0   0   0 110 121 122 121 202\n",
            "  252 194   3   0   0   0   0   0   0   0]\n",
            " [  0   0   0   0   0   0   0   0   0   0  10  53 179 253 253 255 253 253\n",
            "  228  35   0   0   0   0   0   0   0   0]\n",
            " [  0   0   0   0   0   0   0   0   5  54 227 252 243 228 170 242 252 252\n",
            "  231 117   6   0   0   0   0   0   0   0]\n",
            " [  0   0   0   0   0   0   0   6  78 252 252 125  59   0  18 208 252 252\n",
            "  252 252  87   7   0   0   0   0   0   0]\n",
            " [  0   0   0   0   0   0   5 135 252 252 180  16   0  21 203 253 247 129\n",
            "  173 252 252 184  66  49  49   0   0   0]\n",
            " [  0   0   0   0   0   3 136 252 241 106  17   0  53 200 252 216  65   0\n",
            "   14  72 163 241 252 252 223   0   0   0]\n",
            " [  0   0   0   0   0 105 252 242  88  18  73 170 244 252 126  29   0   0\n",
            "    0   0   0  89 180 180  37   0   0   0]\n",
            " [  0   0   0   0   0 231 252 245 205 216 252 252 252 124   3   0   0   0\n",
            "    0   0   0   0   0   0   0   0   0   0]\n",
            " [  0   0   0   0   0 207 252 252 252 252 178 116  36   4   0   0   0   0\n",
            "    0   0   0   0   0   0   0   0   0   0]\n",
            " [  0   0   0   0   0  13  93 143 121  23   6   0   0   0   0   0   0   0\n",
            "    0   0   0   0   0   0   0   0   0   0]\n",
            " [  0   0   0   0   0   0   0   0   0   0   0   0   0   0   0   0   0   0\n",
            "    0   0   0   0   0   0   0   0   0   0]\n",
            " [  0   0   0   0   0   0   0   0   0   0   0   0   0   0   0   0   0   0\n",
            "    0   0   0   0   0   0   0   0   0   0]\n",
            " [  0   0   0   0   0   0   0   0   0   0   0   0   0   0   0   0   0   0\n",
            "    0   0   0   0   0   0   0   0   0   0]\n",
            " [  0   0   0   0   0   0   0   0   0   0   0   0   0   0   0   0   0   0\n",
            "    0   0   0   0   0   0   0   0   0   0]\n",
            " [  0   0   0   0   0   0   0   0   0   0   0   0   0   0   0   0   0   0\n",
            "    0   0   0   0   0   0   0   0   0   0]]\n"
          ]
        }
      ]
    },
    {
      "cell_type": "markdown",
      "source": [
        "**Normalisation**"
      ],
      "metadata": {
        "id": "FqXBVoLW4G10"
      }
    },
    {
      "cell_type": "code",
      "source": [
        "x_train=tf.keras.utils.normalize(x_train,axis=1)\n",
        "x_test=tf.keras.utils.normalize(x_test,axis=1)"
      ],
      "metadata": {
        "id": "ZXzANJfi3NoG"
      },
      "execution_count": null,
      "outputs": []
    },
    {
      "cell_type": "markdown",
      "source": [
        "Checking the values of each pixel After normalising\n"
      ],
      "metadata": {
        "id": "FFjr8nZm4OUI"
      }
    },
    {
      "cell_type": "code",
      "source": [
        "plt.imshow(x_train[5],cmap=plt.cm.binary)"
      ],
      "metadata": {
        "colab": {
          "base_uri": "https://localhost:8080/",
          "height": 447
        },
        "id": "LZ8tDez23Nl3",
        "outputId": "45c0c2f5-76d7-421f-8bd6-275362950749"
      },
      "execution_count": null,
      "outputs": [
        {
          "output_type": "execute_result",
          "data": {
            "text/plain": [
              "<matplotlib.image.AxesImage at 0x7816253b1b70>"
            ]
          },
          "metadata": {},
          "execution_count": 11
        },
        {
          "output_type": "display_data",
          "data": {
            "text/plain": [
              "<Figure size 640x480 with 1 Axes>"
            ],
            "image/png": "[encoded data removed]"
          },
          "metadata": {}
        }
      ]
    },
    {
      "cell_type": "code",
      "source": [
        "print(x_train[5])"
      ],
      "metadata": {
        "colab": {
          "base_uri": "https://localhost:8080/"
        },
        "id": "tRlLp8SD3NjB",
        "outputId": "7d7d5914-0736-4c60-b82d-b413a9d442fb"
      },
      "execution_count": null,
      "outputs": [
        {
          "output_type": "stream",
          "name": "stdout",
          "text": [
            "[[0.         0.         0.         0.         0.         0.\n",
            "  0.         0.         0.         0.         0.         0.\n",
            "  0.         0.         0.         0.         0.         0.\n",
            "  0.         0.         0.         0.         0.         0.\n",
            "  0.         0.         0.         0.        ]\n",
            " [0.         0.         0.         0.         0.         0.\n",
            "  0.         0.         0.         0.         0.         0.\n",
            "  0.         0.         0.         0.         0.         0.\n",
            "  0.         0.         0.         0.         0.         0.\n",
            "  0.         0.         0.         0.        ]\n",
            " [0.         0.         0.         0.         0.         0.\n",
            "  0.         0.         0.         0.         0.         0.\n",
            "  0.         0.         0.         0.         0.         0.\n",
            "  0.         0.         0.         0.         0.         0.\n",
            "  0.         0.         0.         0.        ]\n",
            " [0.         0.         0.         0.         0.         0.\n",
            "  0.         0.         0.         0.         0.         0.\n",
            "  0.         0.         0.         0.         0.         0.\n",
            "  0.         0.         0.         0.         0.         0.\n",
            "  0.         0.         0.         0.        ]\n",
            " [0.         0.         0.         0.         0.         0.\n",
            "  0.         0.         0.         0.         0.         0.\n",
            "  0.         0.         0.         0.         0.         0.\n",
            "  0.         0.         0.         0.         0.         0.\n",
            "  0.         0.         0.         0.        ]\n",
            " [0.         0.         0.         0.         0.         0.\n",
            "  0.         0.         0.         0.         0.         0.\n",
            "  0.         0.         0.         0.01941852 0.04023069 0.1562113\n",
            "  0.14359004 0.00921171 0.         0.         0.         0.\n",
            "  0.         0.         0.         0.        ]\n",
            " [0.         0.         0.         0.         0.         0.\n",
            "  0.         0.         0.         0.         0.         0.\n",
            "  0.         0.04850047 0.23127813 0.31069633 0.40552536 0.39365246\n",
            "  0.29659582 0.19213005 0.         0.         0.         0.\n",
            "  0.         0.         0.         0.        ]\n",
            " [0.         0.         0.         0.         0.         0.\n",
            "  0.         0.         0.         0.         0.         0.06513354\n",
            "  0.23434254 0.35860954 0.38597409 0.37791429 0.36046699 0.32960583\n",
            "  0.29659582 0.30530254 0.1167979  0.         0.         0.\n",
            "  0.         0.         0.         0.        ]\n",
            " [0.         0.         0.         0.         0.         0.\n",
            "  0.         0.         0.         0.02761485 0.23598644 0.38917288\n",
            "  0.38851527 0.37036723 0.38597409 0.32264619 0.04988606 0.05779818\n",
            "  0.29659582 0.33162172 0.17519686 0.         0.         0.\n",
            "  0.         0.         0.         0.        ]\n",
            " [0.         0.         0.         0.         0.         0.\n",
            "  0.         0.         0.         0.17673505 0.39124068 0.41034128\n",
            "  0.38851527 0.37036723 0.33236658 0.04331824 0.         0.05779818\n",
            "  0.29659582 0.33162172 0.17519686 0.         0.         0.\n",
            "  0.         0.         0.         0.        ]\n",
            " [0.         0.         0.         0.         0.         0.\n",
            "  0.         0.         0.         0.33321921 0.39124068 0.41034128\n",
            "  0.33918    0.24544178 0.0459493  0.         0.         0.1202827\n",
            "  0.29659582 0.33162172 0.17519686 0.         0.         0.\n",
            "  0.         0.         0.         0.        ]\n",
            " [0.         0.         0.         0.         0.         0.\n",
            "  0.         0.         0.         0.04786574 0.19872542 0.09444363\n",
            "  0.033918   0.         0.         0.         0.         0.1562113\n",
            "  0.29659582 0.33162172 0.17519686 0.         0.         0.\n",
            "  0.         0.         0.         0.        ]\n",
            " [0.         0.         0.         0.         0.         0.\n",
            "  0.         0.         0.         0.         0.         0.\n",
            "  0.         0.         0.         0.         0.         0.24525173\n",
            "  0.29659582 0.33162172 0.17519686 0.         0.         0.\n",
            "  0.         0.         0.         0.        ]\n",
            " [0.         0.         0.         0.         0.         0.\n",
            "  0.         0.         0.         0.         0.         0.\n",
            "  0.         0.16166824 0.18532883 0.18223535 0.19471654 0.31554682\n",
            "  0.29659582 0.25529609 0.00875984 0.         0.         0.\n",
            "  0.         0.         0.         0.        ]\n",
            " [0.         0.         0.         0.         0.         0.\n",
            "  0.         0.         0.         0.         0.01552542 0.08630194\n",
            "  0.27596918 0.37183695 0.38750574 0.38090176 0.40713459 0.39521458\n",
            "  0.2683486  0.04605857 0.         0.         0.         0.\n",
            "  0.         0.         0.         0.        ]\n",
            " [0.         0.         0.         0.         0.         0.\n",
            "  0.         0.         0.00988969 0.09941347 0.35242712 0.41034128\n",
            "  0.37463972 0.33509416 0.26037935 0.36148324 0.40552536 0.39365246\n",
            "  0.2718795  0.15396723 0.01751969 0.         0.         0.\n",
            "  0.         0.         0.         0.        ]\n",
            " [0.         0.         0.         0.         0.         0.\n",
            "  0.         0.01125272 0.1542792  0.46392951 0.39124068 0.2035423\n",
            "  0.09096191 0.         0.02756958 0.31069633 0.40552536 0.39365246\n",
            "  0.29659582 0.33162172 0.25403544 0.02214624 0.         0.\n",
            "  0.         0.         0.         0.        ]\n",
            " [0.         0.         0.         0.         0.         0.\n",
            "  0.01071664 0.25318618 0.4984405  0.46392951 0.27945763 0.02605341\n",
            "  0.         0.03086394 0.31092358 0.37791429 0.39747923 0.20151257\n",
            "  0.20361539 0.33162172 0.7358268  0.58212984 0.20843953 0.15628175\n",
            "  0.21184745 0.         0.         0.        ]\n",
            " [0.         0.         0.         0.         0.         0.00915362\n",
            "  0.29149268 0.4726142  0.47668317 0.19514495 0.02639322 0.\n",
            "  0.08171154 0.29394225 0.38597409 0.32264619 0.1045998  0.\n",
            "  0.01647755 0.09474906 0.47595146 0.76246354 0.79586002 0.80373473\n",
            "  0.96412208 0.         0.         0.        ]\n",
            " [0.         0.         0.         0.         0.         0.32037666\n",
            "  0.54011878 0.45385967 0.17405859 0.03313782 0.11333559 0.27681753\n",
            "  0.37618145 0.37036723 0.19298705 0.04331824 0.         0.\n",
            "  0.         0.         0.         0.28157367 0.56847145 0.57409624\n",
            "  0.15996644 0.         0.         0.        ]\n",
            " [0.         0.         0.         0.         0.         0.70482866\n",
            "  0.54011878 0.45948603 0.40547739 0.39765386 0.39124068 0.41034128\n",
            "  0.38851527 0.18224419 0.00459493 0.         0.         0.\n",
            "  0.         0.         0.         0.         0.         0.\n",
            "  0.         0.         0.         0.        ]\n",
            " [0.         0.         0.         0.         0.         0.63159971\n",
            "  0.54011878 0.4726142  0.4984405  0.46392951 0.27635254 0.18888726\n",
            "  0.05550218 0.00587884 0.         0.         0.         0.\n",
            "  0.         0.         0.         0.         0.         0.\n",
            "  0.         0.         0.         0.        ]\n",
            " [0.         0.         0.         0.         0.         0.03966568\n",
            "  0.19932955 0.2681898  0.23933056 0.04234277 0.00931525 0.\n",
            "  0.         0.         0.         0.         0.         0.\n",
            "  0.         0.         0.         0.         0.         0.\n",
            "  0.         0.         0.         0.        ]\n",
            " [0.         0.         0.         0.         0.         0.\n",
            "  0.         0.         0.         0.         0.         0.\n",
            "  0.         0.         0.         0.         0.         0.\n",
            "  0.         0.         0.         0.         0.         0.\n",
            "  0.         0.         0.         0.        ]\n",
            " [0.         0.         0.         0.         0.         0.\n",
            "  0.         0.         0.         0.         0.         0.\n",
            "  0.         0.         0.         0.         0.         0.\n",
            "  0.         0.         0.         0.         0.         0.\n",
            "  0.         0.         0.         0.        ]\n",
            " [0.         0.         0.         0.         0.         0.\n",
            "  0.         0.         0.         0.         0.         0.\n",
            "  0.         0.         0.         0.         0.         0.\n",
            "  0.         0.         0.         0.         0.         0.\n",
            "  0.         0.         0.         0.        ]\n",
            " [0.         0.         0.         0.         0.         0.\n",
            "  0.         0.         0.         0.         0.         0.\n",
            "  0.         0.         0.         0.         0.         0.\n",
            "  0.         0.         0.         0.         0.         0.\n",
            "  0.         0.         0.         0.        ]\n",
            " [0.         0.         0.         0.         0.         0.\n",
            "  0.         0.         0.         0.         0.         0.\n",
            "  0.         0.         0.         0.         0.         0.\n",
            "  0.         0.         0.         0.         0.         0.\n",
            "  0.         0.         0.         0.        ]]\n"
          ]
        }
      ]
    },
    {
      "cell_type": "code",
      "source": [
        "Img_size=28\n",
        "x_train=np.array(x_train).reshape(-1,Img_size,Img_size,1)###increasing one dimension for kernel operation\n",
        "x_test=np.array(x_test).reshape(-1,Img_size,Img_size,1)"
      ],
      "metadata": {
        "id": "Ffuuo8Mv3Ngq"
      },
      "execution_count": null,
      "outputs": []
    },
    {
      "cell_type": "code",
      "source": [
        "from tensorflow.keras.models import Sequential\n",
        "from tensorflow.keras.layers import Dense,Dropout,Activation,Flatten,Conv2D,MaxPooling2D\n"
      ],
      "metadata": {
        "id": "bvCe_TxM3Nd-"
      },
      "execution_count": null,
      "outputs": []
    },
    {
      "cell_type": "code",
      "source": [
        "model=Sequential()### initiating model and telling that we are adding layers sequentially"
      ],
      "metadata": {
        "id": "J10eAcJW3NbW"
      },
      "execution_count": null,
      "outputs": []
    },
    {
      "cell_type": "code",
      "source": [
        "model.add(Conv2D(64, (3, 3), activation='relu', kernel_initializer='he_uniform', input_shape=x_train.shape[1:]))\n",
        "model.add(MaxPooling2D(pool_size=(2,2)))\n",
        "model.add(Conv2D(64, (3, 3), activation='relu'))\n",
        "model.add(MaxPooling2D(pool_size=(2,2)))\n",
        "model.add(Conv2D(64, (3, 3), activation='relu'))\n",
        "model.add(MaxPooling2D(pool_size=(2,2)))\n"
      ],
      "metadata": {
        "id": "4KNUZ1l53NYa"
      },
      "execution_count": null,
      "outputs": []
    },
    {
      "cell_type": "code",
      "source": [
        "model.add(Flatten())\n",
        "model.add(Dense(64))\n",
        "model.add(Activation(\"relu\"))\n",
        "model.add(Dense(32))\n",
        "model.add(Activation(\"relu\"))\n",
        "model.add(Dense(16))\n",
        "model.add(Activation(\"relu\"))\n",
        "model.add(Dense(10))\n",
        "model.add(Activation(\"softmax\"))"
      ],
      "metadata": {
        "id": "AZCqadvZ3NV4"
      },
      "execution_count": null,
      "outputs": []
    },
    {
      "cell_type": "code",
      "source": [
        "model.summary()"
      ],
      "metadata": {
        "colab": {
          "base_uri": "https://localhost:8080/"
        },
        "id": "2T9ItD9_3NS9",
        "outputId": "364e5ee7-5486-4b8a-df1f-01a0846be681"
      },
      "execution_count": null,
      "outputs": [
        {
          "output_type": "stream",
          "name": "stdout",
          "text": [
            "Model: \"sequential\"\n",
            "_________________________________________________________________\n",
            " Layer (type)                Output Shape              Param #   \n",
            "=================================================================\n",
            " conv2d (Conv2D)             (None, 26, 26, 64)        640       \n",
            "                                                                 \n",
            " max_pooling2d (MaxPooling2  (None, 13, 13, 64)        0         \n",
            " D)                                                              \n",
            "                                                                 \n",
            " conv2d_1 (Conv2D)           (None, 11, 11, 64)        36928     \n",
            "                                                                 \n",
            " max_pooling2d_1 (MaxPoolin  (None, 5, 5, 64)          0         \n",
            " g2D)                                                            \n",
            "                                                                 \n",
            " conv2d_2 (Conv2D)           (None, 3, 3, 64)          36928     \n",
            "                                                                 \n",
            " max_pooling2d_2 (MaxPoolin  (None, 1, 1, 64)          0         \n",
            " g2D)                                                            \n",
            "                                                                 \n",
            " flatten (Flatten)           (None, 64)                0         \n",
            "                                                                 \n",
            " dense (Dense)               (None, 64)                4160      \n",
            "                                                                 \n",
            " activation (Activation)     (None, 64)                0         \n",
            "                                                                 \n",
            " dense_1 (Dense)             (None, 32)                2080      \n",
            "                                                                 \n",
            " activation_1 (Activation)   (None, 32)                0         \n",
            "                                                                 \n",
            " dense_2 (Dense)             (None, 16)                528       \n",
            "                                                                 \n",
            " activation_2 (Activation)   (None, 16)                0         \n",
            "                                                                 \n",
            " dense_3 (Dense)             (None, 10)                170       \n",
            "                                                                 \n",
            " activation_3 (Activation)   (None, 10)                0         \n",
            "                                                                 \n",
            "=================================================================\n",
            "Total params: 81434 (318.10 KB)\n",
            "Trainable params: 81434 (318.10 KB)\n",
            "Non-trainable params: 0 (0.00 Byte)\n",
            "_________________________________________________________________\n"
          ]
        }
      ]
    },
    {
      "cell_type": "code",
      "source": [
        "model.compile(optimizer='adam', loss='sparse_categorical_crossentropy', metrics=['accuracy'])"
      ],
      "metadata": {
        "id": "-iRKEa8L3NQS"
      },
      "execution_count": null,
      "outputs": []
    },
    {
      "cell_type": "code",
      "source": [
        "model.fit(x_train,y_train)"
      ],
      "metadata": {
        "colab": {
          "base_uri": "https://localhost:8080/"
        },
        "id": "rvm5Yy373NNT",
        "outputId": "3223c0a8-f538-4525-84b3-7b1674762ab4"
      },
      "execution_count": null,
      "outputs": [
        {
          "output_type": "stream",
          "name": "stdout",
          "text": [
            "1875/1875 [==============================] - 87s 46ms/step - loss: 0.2522 - accuracy: 0.9190\n"
          ]
        },
        {
          "output_type": "execute_result",
          "data": {
            "text/plain": [
              "<keras.src.callbacks.History at 0x781627513790>"
            ]
          },
          "metadata": {},
          "execution_count": 19
        }
      ]
    },
    {
      "cell_type": "code",
      "source": [
        "loss,accuracy=model.evaluate(x_test,y_test,epochs=5)\n",
        "print(loss)\n",
        "print(accuracy)"
      ],
      "metadata": {
        "colab": {
          "base_uri": "https://localhost:8080/"
        },
        "id": "xWDkW94k3NKX",
        "outputId": "89d34e4b-bb2f-43db-f5fe-b38e5a8ce35b"
      },
      "execution_count": null,
      "outputs": [
        {
          "output_type": "stream",
          "name": "stdout",
          "text": [
            "313/313 [==============================] - 4s 12ms/step - loss: 0.1041 - accuracy: 0.9695\n",
            "0.10411714762449265\n",
            "0.9695000052452087\n"
          ]
        }
      ]
    },
    {
      "cell_type": "code",
      "source": [
        "predictions=model.predict([x_test])"
      ],
      "metadata": {
        "colab": {
          "base_uri": "https://localhost:8080/"
        },
        "id": "4gNEGtK3C_g2",
        "outputId": "8458c73e-cc33-4d73-aa05-4efd87100104"
      },
      "execution_count": null,
      "outputs": [
        {
          "output_type": "stream",
          "name": "stdout",
          "text": [
            "313/313 [==============================] - 5s 14ms/step\n"
          ]
        }
      ]
    },
    {
      "cell_type": "code",
      "source": [
        "print(predictions)"
      ],
      "metadata": {
        "colab": {
          "base_uri": "https://localhost:8080/"
        },
        "id": "yNuFB0EBDRwN",
        "outputId": "8c301ecd-97f8-4287-bc81-021c82090803"
      },
      "execution_count": null,
      "outputs": [
        {
          "output_type": "stream",
          "name": "stdout",
          "text": [
            "[[1.58782204e-04 1.24088010e-05 6.45095948e-03 ... 9.92006183e-01\n",
            "  3.34411307e-05 1.21379457e-03]\n",
            " [3.74492747e-03 6.96922216e-05 9.96082067e-01 ... 8.15862677e-06\n",
            "  2.51800448e-05 2.46731247e-07]\n",
            " [2.53457310e-05 9.99832869e-01 3.72956765e-06 ... 3.03371526e-05\n",
            "  8.15361727e-06 8.40463372e-07]\n",
            " ...\n",
            " [1.08108964e-07 1.62876486e-08 2.62412470e-07 ... 1.53358248e-09\n",
            "  2.70574196e-06 5.49823337e-04]\n",
            " [6.35056151e-03 9.98866744e-06 2.87591592e-06 ... 1.05036088e-06\n",
            "  8.48876836e-04 1.63436437e-03]\n",
            " [2.97627319e-03 1.53537712e-07 4.34299349e-04 ... 1.12804166e-08\n",
            "  1.03520964e-04 3.61846614e-05]]\n"
          ]
        }
      ]
    },
    {
      "cell_type": "code",
      "source": [
        "print(np.argmax(predictions[10]))"
      ],
      "metadata": {
        "colab": {
          "base_uri": "https://localhost:8080/"
        },
        "id": "mRsEF2VVDVbp",
        "outputId": "d7f43faf-e4b6-4429-e9bc-fc5431cf6c59"
      },
      "execution_count": null,
      "outputs": [
        {
          "output_type": "stream",
          "name": "stdout",
          "text": [
            "0\n"
          ]
        }
      ]
    },
    {
      "cell_type": "code",
      "source": [
        "plt.imshow(x_test[10])"
      ],
      "metadata": {
        "colab": {
          "base_uri": "https://localhost:8080/",
          "height": 447
        },
        "id": "OxLir97GDduO",
        "outputId": "dd8556b6-43bf-46cd-a43a-2b3999b8eb72"
      },
      "execution_count": null,
      "outputs": [
        {
          "output_type": "execute_result",
          "data": {
            "text/plain": [
              "<matplotlib.image.AxesImage at 0x78162a73f970>"
            ]
          },
          "metadata": {},
          "execution_count": 24
        },
        {
          "output_type": "display_data",
          "data": {
            "text/plain": [
              "<Figure size 640x480 with 1 Axes>"
            ],
            "image/png": "[encoded data removed]"
          },
          "metadata": {}
        }
      ]
    },
    {
      "cell_type": "code",
      "source": [
        "image=cv2.imread('6_img.jpg')"
      ],
      "metadata": {
        "id": "bb0C8rZwDkzr"
      },
      "execution_count": null,
      "outputs": []
    },
    {
      "cell_type": "code",
      "source": [
        "plt.imshow(image)"
      ],
      "metadata": {
        "colab": {
          "base_uri": "https://localhost:8080/",
          "height": 451
        },
        "id": "aovVOniDD78f",
        "outputId": "d5f4c197-42a1-4208-cb87-ee3652dace3f"
      },
      "execution_count": null,
      "outputs": [
        {
          "output_type": "execute_result",
          "data": {
            "text/plain": [
              "<matplotlib.image.AxesImage at 0x7816252796c0>"
            ]
          },
          "metadata": {},
          "execution_count": 40
        },
        {
          "output_type": "display_data",
          "data": {
            "text/plain": [
              "<Figure size 640x480 with 1 Axes>"
            ],
            "image/png": "[encoded data removed]"
          },
          "metadata": {}
        }
      ]
    },
    {
      "cell_type": "code",
      "source": [
        "grey_img=cv2.cvtColor(image,cv2.COLOR_BGR2GRAY)"
      ],
      "metadata": {
        "id": "3nvR729rEEqz"
      },
      "execution_count": null,
      "outputs": []
    },
    {
      "cell_type": "code",
      "source": [
        "resized=cv2.resize(grey_img,(28,28),interpolation=cv2.INTER_AREA)\n",
        "plt.imshow(resized)"
      ],
      "metadata": {
        "colab": {
          "base_uri": "https://localhost:8080/",
          "height": 447
        },
        "id": "whQrYs3zEb20",
        "outputId": "b28de367-f556-4734-91b6-cf95eee5b480"
      },
      "execution_count": null,
      "outputs": [
        {
          "output_type": "execute_result",
          "data": {
            "text/plain": [
              "<matplotlib.image.AxesImage at 0x781624fc5a80>"
            ]
          },
          "metadata": {},
          "execution_count": 42
        },
        {
          "output_type": "display_data",
          "data": {
            "text/plain": [
              "<Figure size 640x480 with 1 Axes>"
            ],
            "image/png": "[encoded data removed]"
          },
          "metadata": {}
        }
      ]
    },
    {
      "cell_type": "code",
      "source": [
        "new_img=tf.keras.utils.normalize(resized,axis=1)\n",
        "plt.imshow(new_img)"
      ],
      "metadata": {
        "id": "dqaMLcPfEoyI",
        "colab": {
          "base_uri": "https://localhost:8080/",
          "height": 447
        },
        "outputId": "11ba3af3-9361-486b-fdf3-0f0ff125fe2a"
      },
      "execution_count": null,
      "outputs": [
        {
          "output_type": "execute_result",
          "data": {
            "text/plain": [
              "<matplotlib.image.AxesImage at 0x781625036710>"
            ]
          },
          "metadata": {},
          "execution_count": 43
        },
        {
          "output_type": "display_data",
          "data": {
            "text/plain": [
              "<Figure size 640x480 with 1 Axes>"
            ],
            "image/png": "[encoded data removed]"
          },
          "metadata": {}
        }
      ]
    },
    {
      "cell_type": "code",
      "source": [
        "newimg=np.array(new_img).reshape(-1,Img_size,Img_size,1)"
      ],
      "metadata": {
        "id": "-pzchRlME1Eo"
      },
      "execution_count": null,
      "outputs": []
    },
    {
      "cell_type": "code",
      "source": [
        "predictions=model.predict(newimg)"
      ],
      "metadata": {
        "colab": {
          "base_uri": "https://localhost:8080/"
        },
        "id": "ZJd9wPGbFN3F",
        "outputId": "3e977049-ac27-41d6-9652-095c2bbf92db"
      },
      "execution_count": null,
      "outputs": [
        {
          "output_type": "stream",
          "name": "stdout",
          "text": [
            "1/1 [==============================] - 0s 26ms/step\n"
          ]
        }
      ]
    },
    {
      "cell_type": "code",
      "source": [
        "print(np.argmax(predictions))"
      ],
      "metadata": {
        "colab": {
          "base_uri": "https://localhost:8080/"
        },
        "id": "gS3fVPlQFV3J",
        "outputId": "ea15f5cd-9e81-4ea6-aee8-c7a540c7cdfb"
      },
      "execution_count": null,
      "outputs": [
        {
          "output_type": "stream",
          "name": "stdout",
          "text": [
            "6\n"
          ]
        }
      ]
    }
  ]
}